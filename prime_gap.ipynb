{
 "cells": [
  {
   "cell_type": "code",
   "execution_count": 67,
   "metadata": {},
   "outputs": [],
   "source": [
    "from math import sqrt\n",
    "def is_prime(n):\n",
    "    if n % 2 == 0 and n > 2: \n",
    "        return False\n",
    "    for i in range(3, int(sqrt(n)) + 1, 2):\n",
    "        if n % i == 0:\n",
    "            return False\n",
    "    return True"
   ]
  },
  {
   "cell_type": "code",
   "execution_count": 68,
   "metadata": {},
   "outputs": [],
   "source": [
    "def gap(g,m,n):\n",
    "#g (integer >= 2) which indicates the gap we are looking for\n",
    "#m (integer > 2) which gives the start of the search (m inclusive)\n",
    "#n (integer >= m) which gives the end of the search (n inclusive)\n",
    "    #     set = [i for i in range(m,n + 1) if is_prime(i)]  # find primes in chosen range\n",
    "    #     print(set)\n",
    "    #     diffs=[x-y for y,x in zip(set[0:len(set)-1],set[1:len(set)])]   # find differences in set\n",
    "    #     print(diffs)\n",
    "    \n",
    "    first= 0\n",
    "    for i in range(m,n + 1):\n",
    "        if is_prime(i):\n",
    "            if first == 0:\n",
    "                first = i\n",
    "            elif i - first == g :\n",
    "                return [ first, i]\n",
    "            else:\n",
    "                first = i\n",
    "\n",
    "    return\n"
   ]
  },
  {
   "cell_type": "code",
   "execution_count": 70,
   "metadata": {},
   "outputs": [
    {
     "data": {
      "text/plain": [
       "[139, 149]"
      ]
     },
     "execution_count": 70,
     "metadata": {},
     "output_type": "execute_result"
    }
   ],
   "source": [
    "gap (10,130,200)"
   ]
  },
  {
   "cell_type": "code",
   "execution_count": 75,
   "metadata": {},
   "outputs": [
    {
     "data": {
      "text/plain": [
       "[163, 167]"
      ]
     },
     "execution_count": 75,
     "metadata": {},
     "output_type": "execute_result"
    }
   ],
   "source": [
    "gap(4, 130, 200)"
   ]
  },
  {
   "cell_type": "code",
   "execution_count": 76,
   "metadata": {},
   "outputs": [],
   "source": [
    "gap(2, 5, 5)"
   ]
  },
  {
   "cell_type": "code",
   "execution_count": null,
   "metadata": {},
   "outputs": [],
   "source": []
  }
 ],
 "metadata": {
  "kernelspec": {
   "display_name": "Python 3",
   "language": "python",
   "name": "python3"
  },
  "language_info": {
   "codemirror_mode": {
    "name": "ipython",
    "version": 3
   },
   "file_extension": ".py",
   "mimetype": "text/x-python",
   "name": "python",
   "nbconvert_exporter": "python",
   "pygments_lexer": "ipython3",
   "version": "3.6.5"
  }
 },
 "nbformat": 4,
 "nbformat_minor": 2
}
