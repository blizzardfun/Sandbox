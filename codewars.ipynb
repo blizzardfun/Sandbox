{
 "cells": [
  {
   "cell_type": "markdown",
   "metadata": {},
   "source": [
    "## Given string of integers return string of max and min"
   ]
  },
  {
   "cell_type": "code",
   "execution_count": 152,
   "metadata": {},
   "outputs": [],
   "source": [
    "def high_and_low(numbers):\n",
    "    num_list=[int(s) for s in numbers.split()]    \n",
    "    return ' '.join([str(max(num_list)),str(min(num_list))])"
   ]
  },
  {
   "cell_type": "code",
   "execution_count": 153,
   "metadata": {},
   "outputs": [
    {
     "data": {
      "text/plain": [
       "'25 -24'"
      ]
     },
     "execution_count": 153,
     "metadata": {},
     "output_type": "execute_result"
    }
   ],
   "source": [
    "a=\"23 -24 25 2\"\n",
    "high_and_low(a)"
   ]
  },
  {
   "cell_type": "code",
   "execution_count": 39,
   "metadata": {},
   "outputs": [
    {
     "data": {
      "text/plain": [
       "'542 -214'"
      ]
     },
     "execution_count": 39,
     "metadata": {},
     "output_type": "execute_result"
    }
   ],
   "source": [
    "b=\"4 5 29 54 4 0 -214 542 -64 1 -3 6 -6\"\n",
    "high_and_low(b)"
   ]
  },
  {
   "cell_type": "code",
   "execution_count": 40,
   "metadata": {},
   "outputs": [
    {
     "data": {
      "text/plain": [
       "'2757 -318'"
      ]
     },
     "execution_count": 40,
     "metadata": {},
     "output_type": "execute_result"
    }
   ],
   "source": [
    "c=\"1507 1912 563 679 502 1806 2623 1917 356 94 -318 2757 2545 -267 -302 -19 2553 712 115 2262 1183 455\"\n",
    "high_and_low(c)"
   ]
  },
  {
   "cell_type": "markdown",
   "metadata": {},
   "source": [
    "## determine the years necessary for principal(P)  to compound to desired(D) \n",
    "### given interest rate r, tax on interest rate t"
   ]
  },
  {
   "cell_type": "code",
   "execution_count": 60,
   "metadata": {},
   "outputs": [],
   "source": [
    "r=0.05  #interest rate\n",
    "t=0.18  #tax rate"
   ]
  },
  {
   "cell_type": "code",
   "execution_count": 61,
   "metadata": {},
   "outputs": [],
   "source": [
    "P=1000  # initial principle\n",
    "D = 1100  # desired sum"
   ]
  },
  {
   "cell_type": "code",
   "execution_count": 62,
   "metadata": {},
   "outputs": [
    {
     "name": "stdout",
     "output_type": "stream",
     "text": [
      "After 1 years P= 1041.0\n",
      "After 2 years P= 1083.681\n",
      "After 3 years P= 1128.111921\n"
     ]
    }
   ],
   "source": [
    "year = 0\n",
    "while P < D:\n",
    "    year += 1\n",
    "    P += (P*r - P*r*t)\n",
    "    print (f\"After {year} years P= {P}\")\n"
   ]
  },
  {
   "cell_type": "markdown",
   "metadata": {},
   "source": [
    "## Roman numeral conversion"
   ]
  },
  {
   "cell_type": "code",
   "execution_count": 157,
   "metadata": {},
   "outputs": [],
   "source": [
    "def roman (i):\n",
    "    R= ''\n",
    "    numerals={1000:\"M\",900:\"CM\",500:\"D\",400:\"CD\",\n",
    "              100:\"C\", 90:\"XC\", 50:\"L\",40:\"XL\",\n",
    "              10:\"X\",9:\"IX\",5:\"V\",4:\"IV\",1:\"I\"}\n",
    "    for key in sorted(numerals.keys(),reverse = True) :\n",
    "        while i >= key:\n",
    "            i -= key\n",
    "            R += numerals[key]\n",
    "    return R"
   ]
  },
  {
   "cell_type": "code",
   "execution_count": 160,
   "metadata": {},
   "outputs": [
    {
     "data": {
      "text/plain": [
       "'MDCLXVI'"
      ]
     },
     "execution_count": 160,
     "metadata": {},
     "output_type": "execute_result"
    }
   ],
   "source": [
    "roman(1666)"
   ]
  },
  {
   "cell_type": "code",
   "execution_count": 91,
   "metadata": {},
   "outputs": [],
   "source": [
    "def solution(n):\n",
    "    roman_numerals = {1000:'M',\n",
    "                      900: 'CM',\n",
    "                      500: 'D',\n",
    "                      400: 'CD',\n",
    "                      100: 'C',\n",
    "                      90: 'XC',\n",
    "                      50: 'L',\n",
    "                      40: 'XL',\n",
    "                      10: 'X',\n",
    "                      9: 'IX',\n",
    "                      5: 'V',\n",
    "                      4: 'IV',\n",
    "                      1: 'I'\n",
    "    }\n",
    "    roman_string = ''\n",
    "    print(sorted(roman_numerals.keys(),reverse=True))\n",
    "    for key in sorted(roman_numerals.keys(),reverse=True):\n",
    "        while n >= key:\n",
    "            roman_string += roman_numerals[key]\n",
    "            n -= key\n",
    "    return roman_string"
   ]
  },
  {
   "cell_type": "code",
   "execution_count": 92,
   "metadata": {},
   "outputs": [
    {
     "name": "stdout",
     "output_type": "stream",
     "text": [
      "[1000, 900, 500, 400, 100, 90, 50, 40, 10, 9, 5, 4, 1]\n"
     ]
    },
    {
     "data": {
      "text/plain": [
       "'MMVIII'"
      ]
     },
     "execution_count": 92,
     "metadata": {},
     "output_type": "execute_result"
    }
   ],
   "source": [
    "solution(2008)"
   ]
  },
  {
   "cell_type": "markdown",
   "metadata": {},
   "source": [
    "# move 0's to end of list"
   ]
  },
  {
   "cell_type": "code",
   "execution_count": 148,
   "metadata": {},
   "outputs": [],
   "source": [
    "def move_zeros (l):\n",
    "    new_l= [item for item in l if isinstance(item, bool) or item != 0]\n",
    "    new_l += [item for item in l if not isinstance(item, bool) and item == 0]\n",
    "    return new_l"
   ]
  },
  {
   "cell_type": "code",
   "execution_count": 149,
   "metadata": {},
   "outputs": [
    {
     "data": {
      "text/plain": [
       "[1, False, 2, 'a', True, 3, 1, 2, 3, 0.0, 0]"
      ]
     },
     "execution_count": 149,
     "metadata": {},
     "output_type": "execute_result"
    }
   ],
   "source": [
    "move_zeros([1,False,2,'a',True,3,0.0,1,2,3,0])"
   ]
  },
  {
   "cell_type": "code",
   "execution_count": 136,
   "metadata": {},
   "outputs": [],
   "source": [
    "def move_zeros (l):\n",
    "    zero_l=[]\n",
    "    new_l=[]\n",
    "    for item in l:\n",
    "        if (type(item) != bool)and item == 0:\n",
    "            zero_l += [item]\n",
    "            print(\"1\")\n",
    "        else:\n",
    "            new_l += [item]\n",
    "            print(\"2\")\n",
    "    \n",
    "    return new_l + zero_l"
   ]
  },
  {
   "cell_type": "code",
   "execution_count": 137,
   "metadata": {},
   "outputs": [
    {
     "name": "stdout",
     "output_type": "stream",
     "text": [
      "2\n",
      "2\n",
      "2\n",
      "2\n",
      "2\n",
      "2\n",
      "1\n",
      "2\n",
      "2\n",
      "2\n",
      "1\n"
     ]
    },
    {
     "data": {
      "text/plain": [
       "[1, False, 2, 'a', True, 3, 1, 2, 3, 0.0, 0]"
      ]
     },
     "execution_count": 137,
     "metadata": {},
     "output_type": "execute_result"
    }
   ],
   "source": [
    "move_zeros([1,False,2,'a',True,3,0.0,1,2,3,0])"
   ]
  },
  {
   "cell_type": "markdown",
   "metadata": {},
   "source": [
    "# convert to title case"
   ]
  },
  {
   "cell_type": "code",
   "execution_count": 234,
   "metadata": {},
   "outputs": [],
   "source": [
    "def title_case(title,words=''):\n",
    "    title=title.capitalize().split()  # cap first word only\n",
    "    minor_words=words.lower().split()  # lower case all words\n",
    "    print(minor_words)\n",
    "    answer=[word.capitalize() if word not in minor_words else word for word in title]\n",
    "    return ' '.join(answer)"
   ]
  },
  {
   "cell_type": "code",
   "execution_count": 235,
   "metadata": {},
   "outputs": [
    {
     "name": "stdout",
     "output_type": "stream",
     "text": [
      "['the', 'in']\n"
     ]
    },
    {
     "data": {
      "text/plain": [
       "'The Wind in the Willows'"
      ]
     },
     "execution_count": 235,
     "metadata": {},
     "output_type": "execute_result"
    }
   ],
   "source": [
    "title_case('THE WIND IN THE WILLOWS','THE IN')"
   ]
  },
  {
   "cell_type": "code",
   "execution_count": 236,
   "metadata": {},
   "outputs": [
    {
     "name": "stdout",
     "output_type": "stream",
     "text": [
      "[]\n"
     ]
    },
    {
     "data": {
      "text/plain": [
       "''"
      ]
     },
     "execution_count": 236,
     "metadata": {},
     "output_type": "execute_result"
    }
   ],
   "source": [
    "title_case(\"\")"
   ]
  },
  {
   "cell_type": "code",
   "execution_count": 223,
   "metadata": {},
   "outputs": [],
   "source": [
    "def title_case(title, minor_words=''):\n",
    "    title = title.capitalize().split()\n",
    "    print(title)\n",
    "    minor_words = minor_words.lower().split()\n",
    "    return ' '.join([word if word in minor_words else word.capitalize() for word in title])"
   ]
  },
  {
   "cell_type": "code",
   "execution_count": null,
   "metadata": {},
   "outputs": [],
   "source": []
  }
 ],
 "metadata": {
  "kernelspec": {
   "display_name": "Python 3",
   "language": "python",
   "name": "python3"
  },
  "language_info": {
   "codemirror_mode": {
    "name": "ipython",
    "version": 3
   },
   "file_extension": ".py",
   "mimetype": "text/x-python",
   "name": "python",
   "nbconvert_exporter": "python",
   "pygments_lexer": "ipython3",
   "version": "3.6.5"
  }
 },
 "nbformat": 4,
 "nbformat_minor": 2
}
