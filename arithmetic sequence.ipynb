{
 "cells": [
  {
   "cell_type": "code",
   "execution_count": 1,
   "metadata": {},
   "outputs": [],
   "source": [
    "import pandas as pd\n"
   ]
  },
  {
   "cell_type": "code",
   "execution_count": 38,
   "metadata": {},
   "outputs": [],
   "source": [
    "ap1=[1,3,5,7,11]  # inc 2missing 9\n",
    "ap2=[2,7,12,17,27,32]  #inc 5 missing 22\n",
    "ap3=[5,11,14]  #inc 3 missing 8  \n",
    "ap4=[6,14,18,22,26,30,34]  # inc 4 missing 10\n"
   ]
  },
  {
   "cell_type": "code",
   "execution_count": 31,
   "metadata": {},
   "outputs": [],
   "source": [
    "def findmissing(app):\n",
    "    # find the missing term in an arithmetic sequence\n",
    "    follow=app[1]\n",
    "    inc=app[1]-app[0]\n",
    "    for i in range(2,len(app)):\n",
    "        print(i)\n",
    "        diff=app[i] - follow\n",
    "        if diff == inc:\n",
    "            follow=app[i]\n",
    "        elif diff > inc:               #missing from current interval before term i\n",
    "            index=i\n",
    "            break\n",
    "        elif inc > diff:              # missing from previous interval before term i-1\n",
    "            index=i-1\n",
    "            inc= diff\n",
    "            break\n",
    "        \n",
    "    return app[index] - inc\n",
    "    "
   ]
  },
  {
   "cell_type": "code",
   "execution_count": 39,
   "metadata": {},
   "outputs": [
    {
     "name": "stdout",
     "output_type": "stream",
     "text": [
      "2\n"
     ]
    },
    {
     "data": {
      "text/plain": [
       "10"
      ]
     },
     "execution_count": 39,
     "metadata": {},
     "output_type": "execute_result"
    }
   ],
   "source": [
    "findmissing(ap4)"
   ]
  },
  {
   "cell_type": "code",
   "execution_count": 40,
   "metadata": {},
   "outputs": [
    {
     "name": "stdout",
     "output_type": "stream",
     "text": [
      "2\n",
      "3\n",
      "4\n",
      "5\n",
      "6\n"
     ]
    },
    {
     "data": {
      "text/plain": [
       "10"
      ]
     },
     "execution_count": 40,
     "metadata": {},
     "output_type": "execute_result"
    }
   ],
   "source": [
    "slowfindmissing(ap4)"
   ]
  },
  {
   "cell_type": "code",
   "execution_count": 23,
   "metadata": {},
   "outputs": [],
   "source": [
    "def slowfindmissing(app):\n",
    "    follow=app[1]\n",
    "    inc=app[1]-app[0]\n",
    "    for i in range(2,len(app)):\n",
    "        diff=app[i] - follow\n",
    "        print(i)\n",
    "        if diff > inc:               #missing from current interval before term i\n",
    "            index=i\n",
    "        elif inc > diff:              # missing from previous interval before term i-1\n",
    "            index=i-1\n",
    "            inc= diff\n",
    "\n",
    "        follow=app[i]\n",
    "    return app[index] - inc\n",
    "    "
   ]
  },
  {
   "cell_type": "code",
   "execution_count": null,
   "metadata": {},
   "outputs": [],
   "source": [
    "def find_missing(sequence):\n",
    "    t = sequence\n",
    "    return (t[0] + t[-1]) * (len(t) + 1) / 2 - sum(t)"
   ]
  },
  {
   "cell_type": "code",
   "execution_count": null,
   "metadata": {},
   "outputs": [],
   "source": [
    "def find_missing(sequence):\n",
    "    interval = (sequence[-1] - sequence[0])/len(sequence)\n",
    "    for previous, item in enumerate(sequence[1:]):\n",
    "        if item - sequence[previous] != interval:\n",
    "            return item - interval"
   ]
  },
  {
   "cell_type": "code",
   "execution_count": null,
   "metadata": {},
   "outputs": [],
   "source": [
    "def find_missing(s):\n",
    "       return (len(s)+1)*(s[0]+s[len(s)-1])/2-sum(s)       \n",
    "    "
   ]
  }
 ],
 "metadata": {
  "kernelspec": {
   "display_name": "Python 3",
   "language": "python",
   "name": "python3"
  },
  "language_info": {
   "codemirror_mode": {
    "name": "ipython",
    "version": 3
   },
   "file_extension": ".py",
   "mimetype": "text/x-python",
   "name": "python",
   "nbconvert_exporter": "python",
   "pygments_lexer": "ipython3",
   "version": "3.6.5"
  }
 },
 "nbformat": 4,
 "nbformat_minor": 2
}
