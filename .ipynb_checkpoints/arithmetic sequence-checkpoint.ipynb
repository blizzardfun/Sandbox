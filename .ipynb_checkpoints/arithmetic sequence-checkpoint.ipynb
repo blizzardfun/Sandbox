{
 "cells": [
  {
   "cell_type": "code",
   "execution_count": 1,
   "metadata": {},
   "outputs": [],
   "source": [
    "import pandas as pd\n"
   ]
  },
  {
   "cell_type": "code",
   "execution_count": 2,
   "metadata": {},
   "outputs": [],
   "source": [
    "ap1=[1,3,5,7,11]  # inc 2missing 9\n",
    "ap2=[2,7,12,17,27,32]  #inc 5 missing 22\n",
    "ap3=[5,11,14]  #inc 3 missing 8  \n",
    "ap4=[6,14,18,22,26,30,34]  # inc 4 missing 10\n",
    "ap5=[5,3,1,-1,-3,-7]  #inc -2 missing -5\n",
    "ap6=[-9,-6,0,3,6,9]   #in 3 missing -3"
   ]
  },
  {
   "cell_type": "code",
   "execution_count": 18,
   "metadata": {},
   "outputs": [],
   "source": [
    "def iterfindmissing(app):\n",
    "    # find the missing term in an arithmetic sequence\n",
    "    # by iterating through sequence stops when found\n",
    "    follow=app[1]\n",
    "    inc=app[1]-app[0]\n",
    "    for i in range(2,len(app)):\n",
    "        diff=app[i] - follow\n",
    "        if diff == inc:\n",
    "            follow=app[i]\n",
    "        elif abs(diff) > abs(inc):               #missing from current interval before term i\n",
    "            index=i\n",
    "            break\n",
    "        elif abs(inc) > abs(diff):              # missing from previous interval before term i-1\n",
    "            index=i-1\n",
    "            inc= diff\n",
    "            break\n",
    "        \n",
    "    return app[index] - inc\n",
    "    "
   ]
  },
  {
   "cell_type": "code",
   "execution_count": 21,
   "metadata": {},
   "outputs": [],
   "source": [
    "def pyfindmissing(app):\n",
    "    #find missing term in a arithmetic sequence \n",
    "    #find sum of full series and subtract sum of actual series\n",
    "    series_sum=(app[0] + app[-1]) * ((len(app) +1) / 2)\n",
    "    return int(series_sum - sum(app))"
   ]
  },
  {
   "cell_type": "code",
   "execution_count": 19,
   "metadata": {},
   "outputs": [
    {
     "name": "stdout",
     "output_type": "stream",
     "text": [
      "9\n",
      "22\n",
      "8\n",
      "10\n",
      "-5\n",
      "-3\n"
     ]
    }
   ],
   "source": [
    "print(iterfindmissing(ap1))\n",
    "print(iterfindmissing(ap2))\n",
    "print(iterfindmissing(ap3))\n",
    "print(iterfindmissing(ap4))\n",
    "print(iterfindmissing(ap5)) \n",
    "print(iterfindmissing(ap6))"
   ]
  },
  {
   "cell_type": "code",
   "execution_count": 22,
   "metadata": {},
   "outputs": [
    {
     "name": "stdout",
     "output_type": "stream",
     "text": [
      "9\n",
      "22\n",
      "8\n",
      "10\n",
      "-5\n",
      "-3\n"
     ]
    }
   ],
   "source": [
    "print(pyfindmissing(ap1))\n",
    "print(pyfindmissing(ap2))\n",
    "print(pyfindmissing(ap3))\n",
    "print(pyfindmissing(ap4))\n",
    "print(pyfindmissing(ap5)) \n",
    "print(pyfindmissing(ap6))"
   ]
  }
 ],
 "metadata": {
  "kernelspec": {
   "display_name": "Python 3",
   "language": "python",
   "name": "python3"
  },
  "language_info": {
   "codemirror_mode": {
    "name": "ipython",
    "version": 3
   },
   "file_extension": ".py",
   "mimetype": "text/x-python",
   "name": "python",
   "nbconvert_exporter": "python",
   "pygments_lexer": "ipython3",
   "version": "3.6.5"
  }
 },
 "nbformat": 4,
 "nbformat_minor": 2
}
